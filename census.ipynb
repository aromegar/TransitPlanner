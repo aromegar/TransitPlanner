{
 "cells": [
  {
   "cell_type": "markdown",
   "id": "ed79c96c",
   "metadata": {},
   "source": [
    "# census.xls   -->   census.csv"
   ]
  },
  {
   "cell_type": "code",
   "execution_count": 2,
   "id": "1511f8a0",
   "metadata": {},
   "outputs": [],
   "source": [
    "import pandas as pd"
   ]
  },
  {
   "cell_type": "code",
   "execution_count": 31,
   "id": "f45e5838",
   "metadata": {},
   "outputs": [],
   "source": [
    "census = pd.read_excel(\"DATA/dist_barr_pobl.xls\")\n",
    "\n",
    "census.drop(range(135,139),inplace=True)\n",
    "census.drop(range(0,4),inplace=True)\n",
    "census=census.reset_index()\n",
    "census = census.drop(columns=[\"Unnamed: 2\",\"index\"])\n",
    "census.columns = [\"Distrito\",\"Barrio\",\"Población\"]\n",
    "\n",
    "census.to_csv(\"DATA/dist_barr_pobl.csv\", index=False)"
   ]
  },
  {
   "cell_type": "code",
   "execution_count": null,
   "id": "98dcc49c",
   "metadata": {},
   "outputs": [],
   "source": []
  },
  {
   "cell_type": "code",
   "execution_count": 32,
   "id": "4bd08224",
   "metadata": {},
   "outputs": [],
   "source": [
    "elecc = pd.read_excel(\"DATA/Elecciones2021.xls\")"
   ]
  },
  {
   "cell_type": "code",
   "execution_count": 36,
   "id": "fe5ce783",
   "metadata": {},
   "outputs": [],
   "source": [
    "elecc=elecc[[\"Unnamed: 0\", \"Unnamed: 1\", \"Unnamed: 2\", \"Unnamed: 3\", \"Unnamed: 4\"]]"
   ]
  },
  {
   "cell_type": "code",
   "execution_count": 38,
   "id": "8356758b",
   "metadata": {},
   "outputs": [],
   "source": [
    "elecc.columns=[\"Distrito\", \"Barrio\", \"Sección\", \"Mesa\", \"Censo\"]"
   ]
  },
  {
   "cell_type": "code",
   "execution_count": 43,
   "id": "f230f5d4",
   "metadata": {},
   "outputs": [],
   "source": [
    "elecc.drop(range(3398,3401),inplace=True)\n",
    "elecc.drop(range(0,11),inplace=True)"
   ]
  },
  {
   "cell_type": "code",
   "execution_count": 45,
   "id": "79242916",
   "metadata": {
    "scrolled": true
   },
   "outputs": [
    {
     "data": {
      "text/html": [
       "<div>\n",
       "<style scoped>\n",
       "    .dataframe tbody tr th:only-of-type {\n",
       "        vertical-align: middle;\n",
       "    }\n",
       "\n",
       "    .dataframe tbody tr th {\n",
       "        vertical-align: top;\n",
       "    }\n",
       "\n",
       "    .dataframe thead th {\n",
       "        text-align: right;\n",
       "    }\n",
       "</style>\n",
       "<table border=\"1\" class=\"dataframe\">\n",
       "  <thead>\n",
       "    <tr style=\"text-align: right;\">\n",
       "      <th></th>\n",
       "      <th>Distrito</th>\n",
       "      <th>Barrio</th>\n",
       "      <th>Sección</th>\n",
       "      <th>Mesa</th>\n",
       "      <th>Censo</th>\n",
       "    </tr>\n",
       "  </thead>\n",
       "  <tbody>\n",
       "    <tr>\n",
       "      <th>11</th>\n",
       "      <td>1</td>\n",
       "      <td>11</td>\n",
       "      <td>1</td>\n",
       "      <td>U</td>\n",
       "      <td>880</td>\n",
       "    </tr>\n",
       "    <tr>\n",
       "      <th>12</th>\n",
       "      <td>1</td>\n",
       "      <td>11</td>\n",
       "      <td>2</td>\n",
       "      <td>U</td>\n",
       "      <td>640</td>\n",
       "    </tr>\n",
       "    <tr>\n",
       "      <th>13</th>\n",
       "      <td>1</td>\n",
       "      <td>11</td>\n",
       "      <td>3</td>\n",
       "      <td>A</td>\n",
       "      <td>633</td>\n",
       "    </tr>\n",
       "    <tr>\n",
       "      <th>14</th>\n",
       "      <td>1</td>\n",
       "      <td>11</td>\n",
       "      <td>3</td>\n",
       "      <td>B</td>\n",
       "      <td>539</td>\n",
       "    </tr>\n",
       "    <tr>\n",
       "      <th>15</th>\n",
       "      <td>1</td>\n",
       "      <td>11</td>\n",
       "      <td>4</td>\n",
       "      <td>U</td>\n",
       "      <td>975</td>\n",
       "    </tr>\n",
       "    <tr>\n",
       "      <th>...</th>\n",
       "      <td>...</td>\n",
       "      <td>...</td>\n",
       "      <td>...</td>\n",
       "      <td>...</td>\n",
       "      <td>...</td>\n",
       "    </tr>\n",
       "    <tr>\n",
       "      <th>3393</th>\n",
       "      <td>21</td>\n",
       "      <td>214</td>\n",
       "      <td>31</td>\n",
       "      <td>B</td>\n",
       "      <td>1006</td>\n",
       "    </tr>\n",
       "    <tr>\n",
       "      <th>3394</th>\n",
       "      <td>21</td>\n",
       "      <td>215</td>\n",
       "      <td>32</td>\n",
       "      <td>A</td>\n",
       "      <td>586</td>\n",
       "    </tr>\n",
       "    <tr>\n",
       "      <th>3395</th>\n",
       "      <td>21</td>\n",
       "      <td>215</td>\n",
       "      <td>32</td>\n",
       "      <td>B</td>\n",
       "      <td>630</td>\n",
       "    </tr>\n",
       "    <tr>\n",
       "      <th>3396</th>\n",
       "      <td>21</td>\n",
       "      <td>214</td>\n",
       "      <td>33</td>\n",
       "      <td>A</td>\n",
       "      <td>791</td>\n",
       "    </tr>\n",
       "    <tr>\n",
       "      <th>3397</th>\n",
       "      <td>21</td>\n",
       "      <td>214</td>\n",
       "      <td>33</td>\n",
       "      <td>B</td>\n",
       "      <td>866</td>\n",
       "    </tr>\n",
       "  </tbody>\n",
       "</table>\n",
       "<p>3387 rows × 5 columns</p>\n",
       "</div>"
      ],
      "text/plain": [
       "     Distrito Barrio Sección Mesa Censo\n",
       "11          1     11       1    U   880\n",
       "12          1     11       2    U   640\n",
       "13          1     11       3    A   633\n",
       "14          1     11       3    B   539\n",
       "15          1     11       4    U   975\n",
       "...       ...    ...     ...  ...   ...\n",
       "3393       21    214      31    B  1006\n",
       "3394       21    215      32    A   586\n",
       "3395       21    215      32    B   630\n",
       "3396       21    214      33    A   791\n",
       "3397       21    214      33    B   866\n",
       "\n",
       "[3387 rows x 5 columns]"
      ]
     },
     "execution_count": 45,
     "metadata": {},
     "output_type": "execute_result"
    }
   ],
   "source": [
    "elecc"
   ]
  },
  {
   "cell_type": "code",
   "execution_count": 47,
   "id": "243c66b9",
   "metadata": {},
   "outputs": [
    {
     "data": {
      "text/plain": [
       "2366031"
      ]
     },
     "execution_count": 47,
     "metadata": {},
     "output_type": "execute_result"
    }
   ],
   "source": [
    "elecc.Censo.sum()"
   ]
  },
  {
   "cell_type": "code",
   "execution_count": 48,
   "id": "f3286085",
   "metadata": {},
   "outputs": [
    {
     "data": {
      "text/plain": [
       "698.5624446412754"
      ]
     },
     "execution_count": 48,
     "metadata": {},
     "output_type": "execute_result"
    }
   ],
   "source": [
    "elecc.Censo.mean()"
   ]
  },
  {
   "cell_type": "code",
   "execution_count": null,
   "id": "78304be3",
   "metadata": {},
   "outputs": [],
   "source": []
  }
 ],
 "metadata": {
  "kernelspec": {
   "display_name": "ironhack",
   "language": "python",
   "name": "ironhack"
  },
  "language_info": {
   "codemirror_mode": {
    "name": "ipython",
    "version": 3
   },
   "file_extension": ".py",
   "mimetype": "text/x-python",
   "name": "python",
   "nbconvert_exporter": "python",
   "pygments_lexer": "ipython3",
   "version": "3.8.12"
  }
 },
 "nbformat": 4,
 "nbformat_minor": 5
}
