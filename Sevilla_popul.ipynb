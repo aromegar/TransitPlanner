{
 "cells": [
  {
   "cell_type": "markdown",
   "id": "ed79c96c",
   "metadata": {},
   "source": [
    "# Sevilla popul"
   ]
  },
  {
   "cell_type": "code",
   "execution_count": 7,
   "id": "1511f8a0",
   "metadata": {},
   "outputs": [],
   "source": [
    "import pandas as pd"
   ]
  },
  {
   "cell_type": "code",
   "execution_count": 15,
   "id": "dda6c4a1",
   "metadata": {},
   "outputs": [
    {
     "data": {
      "text/html": [
       "<div>\n",
       "<style scoped>\n",
       "    .dataframe tbody tr th:only-of-type {\n",
       "        vertical-align: middle;\n",
       "    }\n",
       "\n",
       "    .dataframe tbody tr th {\n",
       "        vertical-align: top;\n",
       "    }\n",
       "\n",
       "    .dataframe thead th {\n",
       "        text-align: right;\n",
       "    }\n",
       "</style>\n",
       "<table border=\"1\" class=\"dataframe\">\n",
       "  <thead>\n",
       "    <tr style=\"text-align: right;\">\n",
       "      <th></th>\n",
       "      <th>SECCION</th>\n",
       "      <th>BARRIO</th>\n",
       "      <th>EDAD</th>\n",
       "      <th>HOMBRES</th>\n",
       "      <th>MUJERES</th>\n",
       "    </tr>\n",
       "    <tr>\n",
       "      <th>DISTRITO</th>\n",
       "      <th></th>\n",
       "      <th></th>\n",
       "      <th></th>\n",
       "      <th></th>\n",
       "      <th></th>\n",
       "    </tr>\n",
       "  </thead>\n",
       "  <tbody>\n",
       "    <tr>\n",
       "      <th>1</th>\n",
       "      <td>1</td>\n",
       "      <td>SANTA CATALINA</td>\n",
       "      <td>00</td>\n",
       "      <td>7</td>\n",
       "      <td>8</td>\n",
       "    </tr>\n",
       "    <tr>\n",
       "      <th>1</th>\n",
       "      <td>1</td>\n",
       "      <td>SANTA CATALINA</td>\n",
       "      <td>01</td>\n",
       "      <td>4</td>\n",
       "      <td>5</td>\n",
       "    </tr>\n",
       "    <tr>\n",
       "      <th>1</th>\n",
       "      <td>1</td>\n",
       "      <td>SANTA CATALINA</td>\n",
       "      <td>02</td>\n",
       "      <td>6</td>\n",
       "      <td>3</td>\n",
       "    </tr>\n",
       "    <tr>\n",
       "      <th>1</th>\n",
       "      <td>1</td>\n",
       "      <td>SANTA CATALINA</td>\n",
       "      <td>03</td>\n",
       "      <td>2</td>\n",
       "      <td>8</td>\n",
       "    </tr>\n",
       "    <tr>\n",
       "      <th>1</th>\n",
       "      <td>1</td>\n",
       "      <td>SANTA CATALINA</td>\n",
       "      <td>04</td>\n",
       "      <td>7</td>\n",
       "      <td>12</td>\n",
       "    </tr>\n",
       "    <tr>\n",
       "      <th>...</th>\n",
       "      <td>...</td>\n",
       "      <td>...</td>\n",
       "      <td>...</td>\n",
       "      <td>...</td>\n",
       "      <td>...</td>\n",
       "    </tr>\n",
       "    <tr>\n",
       "      <th>11</th>\n",
       "      <td>19</td>\n",
       "      <td>LOS REMEDIOS</td>\n",
       "      <td>86</td>\n",
       "      <td>2</td>\n",
       "      <td>5</td>\n",
       "    </tr>\n",
       "    <tr>\n",
       "      <th>11</th>\n",
       "      <td>19</td>\n",
       "      <td>LOS REMEDIOS</td>\n",
       "      <td>87</td>\n",
       "      <td>1</td>\n",
       "      <td>3</td>\n",
       "    </tr>\n",
       "    <tr>\n",
       "      <th>11</th>\n",
       "      <td>19</td>\n",
       "      <td>LOS REMEDIOS</td>\n",
       "      <td>88</td>\n",
       "      <td>1</td>\n",
       "      <td>5</td>\n",
       "    </tr>\n",
       "    <tr>\n",
       "      <th>11</th>\n",
       "      <td>19</td>\n",
       "      <td>LOS REMEDIOS</td>\n",
       "      <td>89</td>\n",
       "      <td>2</td>\n",
       "      <td>3</td>\n",
       "    </tr>\n",
       "    <tr>\n",
       "      <th>11</th>\n",
       "      <td>19</td>\n",
       "      <td>LOS REMEDIOS</td>\n",
       "      <td>90 y más años</td>\n",
       "      <td>7</td>\n",
       "      <td>25</td>\n",
       "    </tr>\n",
       "  </tbody>\n",
       "</table>\n",
       "<p>47993 rows × 5 columns</p>\n",
       "</div>"
      ],
      "text/plain": [
       "          SECCION          BARRIO           EDAD  HOMBRES  MUJERES\n",
       "DISTRITO                                                          \n",
       "1               1  SANTA CATALINA             00        7        8\n",
       "1               1  SANTA CATALINA             01        4        5\n",
       "1               1  SANTA CATALINA             02        6        3\n",
       "1               1  SANTA CATALINA             03        2        8\n",
       "1               1  SANTA CATALINA             04        7       12\n",
       "...           ...             ...            ...      ...      ...\n",
       "11             19    LOS REMEDIOS             86        2        5\n",
       "11             19    LOS REMEDIOS             87        1        3\n",
       "11             19    LOS REMEDIOS             88        1        5\n",
       "11             19    LOS REMEDIOS             89        2        3\n",
       "11             19    LOS REMEDIOS  90 y más años        7       25\n",
       "\n",
       "[47993 rows x 5 columns]"
      ]
     },
     "execution_count": 15,
     "metadata": {},
     "output_type": "execute_result"
    }
   ],
   "source": [
    "popu = pd.read_csv(\"DATA/sev_pobl.csv\", index_col=0, encoding=\"latin-1\")\n",
    "popu"
   ]
  },
  {
   "cell_type": "code",
   "execution_count": 17,
   "id": "b3e41226",
   "metadata": {},
   "outputs": [
    {
     "data": {
      "text/plain": [
       "108"
      ]
     },
     "execution_count": 17,
     "metadata": {},
     "output_type": "execute_result"
    }
   ],
   "source": [
    "len(popu.BARRIO.unique())"
   ]
  },
  {
   "cell_type": "code",
   "execution_count": null,
   "id": "57a56b9c",
   "metadata": {},
   "outputs": [],
   "source": []
  },
  {
   "cell_type": "code",
   "execution_count": null,
   "id": "e8601fb4",
   "metadata": {},
   "outputs": [],
   "source": []
  }
 ],
 "metadata": {
  "kernelspec": {
   "display_name": "ironhack",
   "language": "python",
   "name": "ironhack"
  },
  "language_info": {
   "codemirror_mode": {
    "name": "ipython",
    "version": 3
   },
   "file_extension": ".py",
   "mimetype": "text/x-python",
   "name": "python",
   "nbconvert_exporter": "python",
   "pygments_lexer": "ipython3",
   "version": "3.8.12"
  }
 },
 "nbformat": 4,
 "nbformat_minor": 5
}
