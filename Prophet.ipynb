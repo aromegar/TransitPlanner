{
 "cells": [
  {
   "cell_type": "markdown",
   "id": "250fac43",
   "metadata": {},
   "source": [
    "# Prophet"
   ]
  },
  {
   "cell_type": "code",
   "execution_count": null,
   "id": "7cce1a73",
   "metadata": {},
   "outputs": [],
   "source": [
    "import pandas as pd"
   ]
  },
  {
   "cell_type": "code",
   "execution_count": null,
   "id": "4c52beba",
   "metadata": {},
   "outputs": [],
   "source": [
    "df = pd.read_excel(\"DATA/evol_pobl.xls\")"
   ]
  },
  {
   "cell_type": "code",
   "execution_count": null,
   "id": "6845a48a",
   "metadata": {},
   "outputs": [],
   "source": [
    "df.columns = [\"Año\",\"Municipio\",\"Provincia\",\"Mun/Prov\"]\n",
    "df = df.drop(range(35,39))\n",
    "df = df.drop(range(0,4))\n",
    "df = df.reset_index(drop=True)\n",
    "df[\"Año\"] = df.Año.apply(lambda x : str(x)[0:4])"
   ]
  },
  {
   "cell_type": "code",
   "execution_count": null,
   "id": "7ca10576",
   "metadata": {},
   "outputs": [],
   "source": [
    "df.head()"
   ]
  },
  {
   "cell_type": "code",
   "execution_count": null,
   "id": "85ebb8e1",
   "metadata": {},
   "outputs": [],
   "source": [
    "pip install pystan"
   ]
  },
  {
   "cell_type": "code",
   "execution_count": 1,
   "id": "e17eb905",
   "metadata": {},
   "outputs": [
    {
     "ename": "ModuleNotFoundError",
     "evalue": "No module named 'pystan'",
     "output_type": "error",
     "traceback": [
      "\u001b[0;31m---------------------------------------------------------------------------\u001b[0m",
      "\u001b[0;31mModuleNotFoundError\u001b[0m                       Traceback (most recent call last)",
      "\u001b[0;32m<ipython-input-1-ca8618bb8e4a>\u001b[0m in \u001b[0;36m<module>\u001b[0;34m\u001b[0m\n\u001b[0;32m----> 1\u001b[0;31m \u001b[0;32mimport\u001b[0m \u001b[0mpystan\u001b[0m\u001b[0;34m\u001b[0m\u001b[0;34m\u001b[0m\u001b[0m\n\u001b[0m",
      "\u001b[0;31mModuleNotFoundError\u001b[0m: No module named 'pystan'"
     ]
    }
   ],
   "source": [
    "import pystan"
   ]
  },
  {
   "cell_type": "code",
   "execution_count": null,
   "id": "11a34782",
   "metadata": {},
   "outputs": [],
   "source": [
    "pip install fbprophet"
   ]
  },
  {
   "cell_type": "code",
   "execution_count": null,
   "id": "2487becb",
   "metadata": {},
   "outputs": [],
   "source": [
    "import fbprophet\n",
    "from fbprophet import Prophet"
   ]
  },
  {
   "cell_type": "code",
   "execution_count": null,
   "id": "4e47f60d",
   "metadata": {},
   "outputs": [],
   "source": []
  }
 ],
 "metadata": {
  "kernelspec": {
   "display_name": "ironhack",
   "language": "python",
   "name": "ironhack"
  },
  "language_info": {
   "codemirror_mode": {
    "name": "ipython",
    "version": 3
   },
   "file_extension": ".py",
   "mimetype": "text/x-python",
   "name": "python",
   "nbconvert_exporter": "python",
   "pygments_lexer": "ipython3",
   "version": "3.8.12"
  }
 },
 "nbformat": 4,
 "nbformat_minor": 5
}
