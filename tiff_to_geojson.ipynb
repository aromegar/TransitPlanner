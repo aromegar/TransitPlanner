{
 "cells": [
  {
   "cell_type": "markdown",
   "id": "1015e16d",
   "metadata": {},
   "source": [
    "# Converting tiff to geojson"
   ]
  },
  {
   "cell_type": "code",
   "execution_count": 10,
   "id": "78ee09ef",
   "metadata": {},
   "outputs": [],
   "source": [
    "import geopandas as gpd\n",
    "import rasterio"
   ]
  },
  {
   "cell_type": "code",
   "execution_count": 5,
   "id": "d691e819",
   "metadata": {},
   "outputs": [],
   "source": [
    "tiff_name = 'DATA/esp_ppp_2020_constrained.tif'"
   ]
  },
  {
   "cell_type": "code",
   "execution_count": 6,
   "id": "2792212a",
   "metadata": {},
   "outputs": [
    {
     "data": {
      "text/plain": [
       "{'driver': 'GTiff',\n",
       " 'dtype': 'float32',\n",
       " 'nodata': -99999.0,\n",
       " 'width': 26989,\n",
       " 'height': 19386,\n",
       " 'count': 1,\n",
       " 'crs': CRS.from_epsg(4326),\n",
       " 'transform': Affine(0.0008333333299862907, 0.0, -18.162083246,\n",
       "        0.0, -0.0008333333299803984, 43.792083359)}"
      ]
     },
     "execution_count": 6,
     "metadata": {},
     "output_type": "execute_result"
    }
   ],
   "source": [
    "data = rasterio.open(tiff_name).meta\n",
    "data"
   ]
  },
  {
   "cell_type": "code",
   "execution_count": 7,
   "id": "0e946aed",
   "metadata": {},
   "outputs": [
    {
     "data": {
      "text/plain": [
       "'4326'"
      ]
     },
     "execution_count": 7,
     "metadata": {},
     "output_type": "execute_result"
    }
   ],
   "source": [
    "c = str(data['crs'])\n",
    "c_s = c.split(':')\n",
    "c_s[1]"
   ]
  },
  {
   "cell_type": "code",
   "execution_count": 8,
   "id": "56fa9146",
   "metadata": {},
   "outputs": [],
   "source": [
    "from rasterio.features import shapes\n",
    "mask = None\n",
    "with rasterio.open(tiff_name) as src:\n",
    "    image = src.read(1)\n",
    "    results = (\n",
    "    {'properties': {'NDVI': v}, 'geometry': s}\n",
    "    for i, (s, v) \n",
    "    in enumerate(\n",
    "        shapes(image, mask=mask, transform=data['transform'])))"
   ]
  },
  {
   "cell_type": "code",
   "execution_count": 9,
   "id": "47fbb998",
   "metadata": {},
   "outputs": [],
   "source": [
    "geoms = list(results)"
   ]
  },
  {
   "cell_type": "code",
   "execution_count": 11,
   "id": "a325e6d0",
   "metadata": {},
   "outputs": [],
   "source": [
    "gpd_polygonized_raster = gpd.GeoDataFrame.from_features(geoms, crs=c)"
   ]
  },
  {
   "cell_type": "code",
   "execution_count": 13,
   "id": "ff2f43bf",
   "metadata": {},
   "outputs": [],
   "source": [
    "gpd_polygonized_raster = gpd_polygonized_raster[gpd_polygonized_raster['NDVI']>0]"
   ]
  },
  {
   "cell_type": "code",
   "execution_count": 14,
   "id": "da43f456",
   "metadata": {},
   "outputs": [
    {
     "data": {
      "text/html": [
       "<div>\n",
       "<style scoped>\n",
       "    .dataframe tbody tr th:only-of-type {\n",
       "        vertical-align: middle;\n",
       "    }\n",
       "\n",
       "    .dataframe tbody tr th {\n",
       "        vertical-align: top;\n",
       "    }\n",
       "\n",
       "    .dataframe thead th {\n",
       "        text-align: right;\n",
       "    }\n",
       "</style>\n",
       "<table border=\"1\" class=\"dataframe\">\n",
       "  <thead>\n",
       "    <tr style=\"text-align: right;\">\n",
       "      <th></th>\n",
       "      <th>geometry</th>\n",
       "      <th>NDVI</th>\n",
       "    </tr>\n",
       "  </thead>\n",
       "  <tbody>\n",
       "    <tr>\n",
       "      <th>0</th>\n",
       "      <td>POLYGON ((-7.68958 43.79042, -7.68958 43.78958...</td>\n",
       "      <td>1.469323</td>\n",
       "    </tr>\n",
       "    <tr>\n",
       "      <th>1</th>\n",
       "      <td>POLYGON ((-7.68875 43.79042, -7.68875 43.78958...</td>\n",
       "      <td>1.455587</td>\n",
       "    </tr>\n",
       "    <tr>\n",
       "      <th>2</th>\n",
       "      <td>POLYGON ((-7.68792 43.79042, -7.68792 43.78958...</td>\n",
       "      <td>1.459332</td>\n",
       "    </tr>\n",
       "    <tr>\n",
       "      <th>3</th>\n",
       "      <td>POLYGON ((-7.68875 43.78958, -7.68875 43.78875...</td>\n",
       "      <td>1.472362</td>\n",
       "    </tr>\n",
       "    <tr>\n",
       "      <th>4</th>\n",
       "      <td>POLYGON ((-7.68792 43.78958, -7.68792 43.78875...</td>\n",
       "      <td>1.660093</td>\n",
       "    </tr>\n",
       "    <tr>\n",
       "      <th>...</th>\n",
       "      <td>...</td>\n",
       "      <td>...</td>\n",
       "    </tr>\n",
       "    <tr>\n",
       "      <th>3464583</th>\n",
       "      <td>POLYGON ((-17.98292 27.63958, -17.98292 27.638...</td>\n",
       "      <td>3.980716</td>\n",
       "    </tr>\n",
       "    <tr>\n",
       "      <th>3464584</th>\n",
       "      <td>POLYGON ((-17.98125 27.63958, -17.98125 27.638...</td>\n",
       "      <td>4.056968</td>\n",
       "    </tr>\n",
       "    <tr>\n",
       "      <th>3464585</th>\n",
       "      <td>POLYGON ((-17.98042 27.63958, -17.98042 27.638...</td>\n",
       "      <td>4.142812</td>\n",
       "    </tr>\n",
       "    <tr>\n",
       "      <th>3464586</th>\n",
       "      <td>POLYGON ((-17.97958 27.63958, -17.97958 27.638...</td>\n",
       "      <td>4.632590</td>\n",
       "    </tr>\n",
       "    <tr>\n",
       "      <th>3464587</th>\n",
       "      <td>POLYGON ((-17.97875 27.63958, -17.97875 27.638...</td>\n",
       "      <td>4.917782</td>\n",
       "    </tr>\n",
       "  </tbody>\n",
       "</table>\n",
       "<p>3429197 rows × 2 columns</p>\n",
       "</div>"
      ],
      "text/plain": [
       "                                                  geometry      NDVI\n",
       "0        POLYGON ((-7.68958 43.79042, -7.68958 43.78958...  1.469323\n",
       "1        POLYGON ((-7.68875 43.79042, -7.68875 43.78958...  1.455587\n",
       "2        POLYGON ((-7.68792 43.79042, -7.68792 43.78958...  1.459332\n",
       "3        POLYGON ((-7.68875 43.78958, -7.68875 43.78875...  1.472362\n",
       "4        POLYGON ((-7.68792 43.78958, -7.68792 43.78875...  1.660093\n",
       "...                                                    ...       ...\n",
       "3464583  POLYGON ((-17.98292 27.63958, -17.98292 27.638...  3.980716\n",
       "3464584  POLYGON ((-17.98125 27.63958, -17.98125 27.638...  4.056968\n",
       "3464585  POLYGON ((-17.98042 27.63958, -17.98042 27.638...  4.142812\n",
       "3464586  POLYGON ((-17.97958 27.63958, -17.97958 27.638...  4.632590\n",
       "3464587  POLYGON ((-17.97875 27.63958, -17.97875 27.638...  4.917782\n",
       "\n",
       "[3429197 rows x 2 columns]"
      ]
     },
     "execution_count": 14,
     "metadata": {},
     "output_type": "execute_result"
    }
   ],
   "source": [
    "gpd_polygonized_raster"
   ]
  },
  {
   "cell_type": "code",
   "execution_count": 15,
   "id": "574b0e36",
   "metadata": {},
   "outputs": [],
   "source": [
    "crs_sys = 'epsg:'+c_s[1]"
   ]
  },
  {
   "cell_type": "code",
   "execution_count": 16,
   "id": "4751398e",
   "metadata": {},
   "outputs": [
    {
     "name": "stderr",
     "output_type": "stream",
     "text": [
      "/home/a_romegar/anaconda3/envs/ironhack/lib/python3.8/site-packages/pyproj/crs/crs.py:131: FutureWarning: '+init=<authority>:<code>' syntax is deprecated. '<authority>:<code>' is the preferred initialization method. When making the change, be mindful of axis order changes: https://pyproj4.github.io/pyproj/stable/gotchas.html#axis-order-changes-in-proj-6\n",
      "  in_crs_string = _prepare_from_proj_string(in_crs_string)\n",
      "/home/a_romegar/anaconda3/envs/ironhack/lib/python3.8/site-packages/geopandas/geodataframe.py:1351: SettingWithCopyWarning: \n",
      "A value is trying to be set on a copy of a slice from a DataFrame.\n",
      "Try using .loc[row_indexer,col_indexer] = value instead\n",
      "\n",
      "See the caveats in the documentation: https://pandas.pydata.org/pandas-docs/stable/user_guide/indexing.html#returning-a-view-versus-a-copy\n",
      "  super().__setitem__(key, value)\n"
     ]
    }
   ],
   "source": [
    "gpd_polygonized_raster['geometry'] = gpd_polygonized_raster['geometry'].to_crs({'init': crs_sys})"
   ]
  },
  {
   "cell_type": "code",
   "execution_count": 17,
   "id": "0b9be19b",
   "metadata": {},
   "outputs": [],
   "source": [
    "gpd_polygonized_raster.to_file('DATA/esptotal.geojson', driver='GeoJSON') "
   ]
  },
  {
   "cell_type": "code",
   "execution_count": null,
   "id": "9a8eca79",
   "metadata": {},
   "outputs": [],
   "source": []
  }
 ],
 "metadata": {
  "kernelspec": {
   "display_name": "ironhack",
   "language": "python",
   "name": "ironhack"
  },
  "language_info": {
   "codemirror_mode": {
    "name": "ipython",
    "version": 3
   },
   "file_extension": ".py",
   "mimetype": "text/x-python",
   "name": "python",
   "nbconvert_exporter": "python",
   "pygments_lexer": "ipython3",
   "version": "3.8.12"
  }
 },
 "nbformat": 4,
 "nbformat_minor": 5
}
