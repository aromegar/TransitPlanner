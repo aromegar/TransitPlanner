{
 "cells": [
  {
   "cell_type": "markdown",
   "id": "3b8a4d22",
   "metadata": {},
   "source": [
    "# secciones + cloro:"
   ]
  },
  {
   "cell_type": "code",
   "execution_count": 16,
   "id": "d1a4688b",
   "metadata": {},
   "outputs": [],
   "source": [
    "import folium\n",
    "from folium import Choropleth, Circle, Marker, Icon, Map, TileLayer\n",
    "from folium.plugins import HeatMap, MarkerCluster\n",
    "import geopandas as gpd\n",
    "import pandas as pd\n",
    "import json\n",
    "import ast"
   ]
  },
  {
   "cell_type": "markdown",
   "id": "762dd00a",
   "metadata": {},
   "source": [
    "## pasamos de .shp a geoDF"
   ]
  },
  {
   "cell_type": "code",
   "execution_count": 17,
   "id": "5a167859",
   "metadata": {},
   "outputs": [],
   "source": [
    "secciones_gdf = gpd.read_file(\"DATA/Seccionado\")"
   ]
  },
  {
   "cell_type": "code",
   "execution_count": 18,
   "id": "9cbbaf1f",
   "metadata": {},
   "outputs": [],
   "source": [
    "secciones_gdf.crs = \"EPSG:25830\""
   ]
  },
  {
   "cell_type": "code",
   "execution_count": 19,
   "id": "5c849172",
   "metadata": {},
   "outputs": [],
   "source": [
    "#secciones_gdf.crs"
   ]
  },
  {
   "cell_type": "code",
   "execution_count": 20,
   "id": "eef14fa6",
   "metadata": {
    "scrolled": true
   },
   "outputs": [],
   "source": [
    "#secciones_gdf.head()"
   ]
  },
  {
   "cell_type": "markdown",
   "id": "3b02f8fc",
   "metadata": {},
   "source": [
    "## podemos dibujar directamente las secciones (sin datos) a partir del geoDF"
   ]
  },
  {
   "cell_type": "code",
   "execution_count": 13,
   "id": "d0b59b4b",
   "metadata": {
    "scrolled": true
   },
   "outputs": [],
   "source": [
    "madrid_map_secc = folium.Map(location=[40.4216,-3.6780], zoom_start=12, tiles=\"cartodbpositron\");\n",
    "folium.GeoJson(data=secciones_gdf[\"geometry\"]).add_to(madrid_map_secc);\n",
    "madrid_map_secc;"
   ]
  },
  {
   "cell_type": "markdown",
   "id": "de2221a4",
   "metadata": {},
   "source": [
    "## pasamos de geoDF a json:"
   ]
  },
  {
   "cell_type": "code",
   "execution_count": 21,
   "id": "e457c379",
   "metadata": {},
   "outputs": [],
   "source": [
    "secciones_json = ast.literal_eval(secciones_gdf.to_json())"
   ]
  },
  {
   "cell_type": "markdown",
   "id": "865a97c5",
   "metadata": {},
   "source": [
    "### (incluso podemos guardarlo) :"
   ]
  },
  {
   "cell_type": "code",
   "execution_count": 15,
   "id": "4c3ceda2",
   "metadata": {},
   "outputs": [],
   "source": [
    "secciones_gdf.to_file(\"DATA/secciones.geojson\", driver=\"GeoJSON\") "
   ]
  },
  {
   "cell_type": "code",
   "execution_count": 31,
   "id": "8c8278fb",
   "metadata": {
    "scrolled": true
   },
   "outputs": [
    {
     "data": {
      "text/plain": [
       "dict"
      ]
     },
     "execution_count": 31,
     "metadata": {},
     "output_type": "execute_result"
    }
   ],
   "source": [
    "type(secciones_json)"
   ]
  },
  {
   "cell_type": "code",
   "execution_count": 32,
   "id": "a3e6f1e7",
   "metadata": {},
   "outputs": [
    {
     "data": {
      "text/plain": [
       "dict_keys(['type', 'features'])"
      ]
     },
     "execution_count": 32,
     "metadata": {},
     "output_type": "execute_result"
    }
   ],
   "source": [
    "secciones_json.keys()"
   ]
  },
  {
   "cell_type": "code",
   "execution_count": 34,
   "id": "7076fd18",
   "metadata": {},
   "outputs": [
    {
     "data": {
      "text/plain": [
       "{'id': '34',\n",
       " 'type': 'Feature',\n",
       " 'properties': {'CODBDT': 935707,\n",
       "  'DESBDT': '005-02-004',\n",
       "  'GEOCODIGO': '00502004'},\n",
       " 'geometry': {'type': 'Polygon',\n",
       "  'coordinates': [[[467836.32689999975, 4480349.6785],\n",
       "    [467823.99870000035, 4480343.565400001],\n",
       "    [467812.00090000033, 4480365.077199999],\n",
       "    [467806.3727000002, 4480375.168500001],\n",
       "    [467798.95660000015, 4480388.465399999],\n",
       "    [467793.5741999997, 4480398.115800001],\n",
       "    [467790.27190000005, 4480404.0370000005],\n",
       "    [467782.6478000004, 4480417.706700001],\n",
       "    [467781.1958999997, 4480420.346899999],\n",
       "    [467767.1752000004, 4480445.8412999995],\n",
       "    [467765.47809999995, 4480448.927200001],\n",
       "    [467763.1979, 4480452.945800001],\n",
       "    [467748.9210999999, 4480478.1063],\n",
       "    [467747.0820000004, 4480481.3477],\n",
       "    [467760.7232999997, 4480489.586100001],\n",
       "    [467775.4617999997, 4480498.4871],\n",
       "    [467779.71970000025, 4480500.903999999],\n",
       "    [467794.4472000003, 4480509.263800001],\n",
       "    [467814.1366999997, 4480520.440099999],\n",
       "    [467808.2627999997, 4480530.0233],\n",
       "    [467807.4590999996, 4480531.3346],\n",
       "    [467800.8490000004, 4480542.118899999],\n",
       "    [467792.5899, 4480555.593599999],\n",
       "    [467808.69849999994, 4480564.780099999],\n",
       "    [467828.3858000003, 4480576.0075],\n",
       "    [467841.7326999996, 4480584.8336],\n",
       "    [467847.0429999996, 4480587.9092],\n",
       "    [467854.9946999997, 4480592.514699999],\n",
       "    [467857.8920999998, 4480593.8674],\n",
       "    [467859.8276000004, 4480594.6983],\n",
       "    [467861.159, 4480595.1733],\n",
       "    [467866.2790000001, 4480596.3552],\n",
       "    [467879.6376, 4480568.184900001],\n",
       "    [467901.14109999966, 4480528.0579],\n",
       "    [467916.4696000004, 4480503.0578000005],\n",
       "    [467926.5758999996, 4480488.6251],\n",
       "    [467936.2818999998, 4480473.5667],\n",
       "    [467955.73479999974, 4480441.5075],\n",
       "    [467954.7134999996, 4480440.391000001],\n",
       "    [467952.82969999965, 4480438.2367],\n",
       "    [467947.2522, 4480431.858200001],\n",
       "    [467945.07359999977, 4480429.395],\n",
       "    [467938.44159999955, 4480421.896600001],\n",
       "    [467935.7577999998, 4480418.899],\n",
       "    [467934.1420999998, 4480417.0944],\n",
       "    [467929.5119000003, 4480411.868899999],\n",
       "    [467923.95830000006, 4480405.8104],\n",
       "    [467922.9633999998, 4480404.725099999],\n",
       "    [467915.62119999994, 4480397.3829],\n",
       "    [467909.40189999994, 4480391.5613],\n",
       "    [467908.7949999999, 4480390.9932],\n",
       "    [467904.4689999996, 4480387.500700001],\n",
       "    [467896.9024, 4480382.1636],\n",
       "    [467891.19180000015, 4480378.778100001],\n",
       "    [467885.89470000006, 4480375.637800001],\n",
       "    [467882.11870000046, 4480373.3992],\n",
       "    [467874.1481999997, 4480368.6698],\n",
       "    [467860.8196999999, 4480361.8237],\n",
       "    [467836.32689999975, 4480349.6785]]]}}"
      ]
     },
     "execution_count": 34,
     "metadata": {},
     "output_type": "execute_result"
    }
   ],
   "source": [
    "secciones_json[\"features\"][34]"
   ]
  },
  {
   "cell_type": "code",
   "execution_count": 37,
   "id": "c120de93",
   "metadata": {},
   "outputs": [],
   "source": [
    "codigos=[element[\"properties\"][\"GEOCODIGO\"] for element in secciones_json[\"features\"]]"
   ]
  },
  {
   "cell_type": "code",
   "execution_count": 39,
   "id": "f28f42ed",
   "metadata": {},
   "outputs": [
    {
     "data": {
      "text/plain": [
       "4417"
      ]
     },
     "execution_count": 39,
     "metadata": {},
     "output_type": "execute_result"
    }
   ],
   "source": [
    "len(codigos)"
   ]
  },
  {
   "cell_type": "markdown",
   "id": "0220b5e3",
   "metadata": {},
   "source": [
    "## cargamos el data"
   ]
  },
  {
   "cell_type": "code",
   "execution_count": 35,
   "id": "9d550816",
   "metadata": {
    "scrolled": true
   },
   "outputs": [
    {
     "data": {
      "text/html": [
       "<div>\n",
       "<style scoped>\n",
       "    .dataframe tbody tr th:only-of-type {\n",
       "        vertical-align: middle;\n",
       "    }\n",
       "\n",
       "    .dataframe tbody tr th {\n",
       "        vertical-align: top;\n",
       "    }\n",
       "\n",
       "    .dataframe thead th {\n",
       "        text-align: right;\n",
       "    }\n",
       "</style>\n",
       "<table border=\"1\" class=\"dataframe\">\n",
       "  <thead>\n",
       "    <tr style=\"text-align: right;\">\n",
       "      <th></th>\n",
       "      <th>Distrito</th>\n",
       "      <th>Barrio</th>\n",
       "      <th>Sección</th>\n",
       "      <th>Mesa</th>\n",
       "      <th>Censo</th>\n",
       "    </tr>\n",
       "  </thead>\n",
       "  <tbody>\n",
       "    <tr>\n",
       "      <th>2969</th>\n",
       "      <td>17</td>\n",
       "      <td>173</td>\n",
       "      <td>107</td>\n",
       "      <td>A</td>\n",
       "      <td>843</td>\n",
       "    </tr>\n",
       "    <tr>\n",
       "      <th>240</th>\n",
       "      <td>2</td>\n",
       "      <td>26</td>\n",
       "      <td>69</td>\n",
       "      <td>U</td>\n",
       "      <td>668</td>\n",
       "    </tr>\n",
       "    <tr>\n",
       "      <th>1737</th>\n",
       "      <td>11</td>\n",
       "      <td>111</td>\n",
       "      <td>19</td>\n",
       "      <td>U</td>\n",
       "      <td>525</td>\n",
       "    </tr>\n",
       "  </tbody>\n",
       "</table>\n",
       "</div>"
      ],
      "text/plain": [
       "      Distrito  Barrio  Sección Mesa  Censo\n",
       "2969        17     173      107    A    843\n",
       "240          2      26       69    U    668\n",
       "1737        11     111       19    U    525"
      ]
     },
     "execution_count": 35,
     "metadata": {},
     "output_type": "execute_result"
    }
   ],
   "source": [
    "df = pd.read_csv(\"DATA/censo_por_mesa.csv\")\n",
    "df.sample(3)"
   ]
  },
  {
   "cell_type": "code",
   "execution_count": 40,
   "id": "d39b1b6f",
   "metadata": {},
   "outputs": [
    {
     "data": {
      "text/plain": [
       "(3387, 5)"
      ]
     },
     "execution_count": 40,
     "metadata": {},
     "output_type": "execute_result"
    }
   ],
   "source": [
    "df.shape"
   ]
  },
  {
   "cell_type": "markdown",
   "id": "c4d6e1f1",
   "metadata": {},
   "source": [
    "## y hacemos un coroplético:"
   ]
  },
  {
   "cell_type": "code",
   "execution_count": 28,
   "id": "2909b164",
   "metadata": {},
   "outputs": [],
   "source": [
    "madrid_secciones = folium.Map(location=[40.4216,-3.6780], zoom_start=12, tiles=\"cartodbpositron\");"
   ]
  },
  {
   "cell_type": "code",
   "execution_count": 29,
   "id": "8b704e6a",
   "metadata": {},
   "outputs": [
    {
     "ename": "ValueError",
     "evalue": "key_on `'properties.COD_BAR'` not found in GeoJSON.",
     "output_type": "error",
     "traceback": [
      "\u001b[0;31m---------------------------------------------------------------------------\u001b[0m",
      "\u001b[0;31mValueError\u001b[0m                                Traceback (most recent call last)",
      "\u001b[0;32m<ipython-input-29-a1bdb488e6c7>\u001b[0m in \u001b[0;36m<module>\u001b[0;34m\u001b[0m\n\u001b[0;32m----> 1\u001b[0;31m madrid_secciones.choropleth(\n\u001b[0m\u001b[1;32m      2\u001b[0m     \u001b[0mgeo_data\u001b[0m \u001b[0;34m=\u001b[0m \u001b[0msecciones_json\u001b[0m\u001b[0;34m,\u001b[0m\u001b[0;34m\u001b[0m\u001b[0;34m\u001b[0m\u001b[0m\n\u001b[1;32m      3\u001b[0m     \u001b[0mdata\u001b[0m \u001b[0;34m=\u001b[0m \u001b[0mdf\u001b[0m\u001b[0;34m,\u001b[0m\u001b[0;34m\u001b[0m\u001b[0;34m\u001b[0m\u001b[0m\n\u001b[1;32m      4\u001b[0m     \u001b[0mcolumns\u001b[0m \u001b[0;34m=\u001b[0m \u001b[0;34m[\u001b[0m\u001b[0;34m\"Código\"\u001b[0m\u001b[0;34m,\u001b[0m \u001b[0;34m\"Población\"\u001b[0m\u001b[0;34m]\u001b[0m\u001b[0;34m,\u001b[0m\u001b[0;34m\u001b[0m\u001b[0;34m\u001b[0m\u001b[0m\n\u001b[1;32m      5\u001b[0m     \u001b[0mkey_on\u001b[0m \u001b[0;34m=\u001b[0m \u001b[0;34m\"feature.properties.COD_BAR\"\u001b[0m\u001b[0;34m,\u001b[0m\u001b[0;34m\u001b[0m\u001b[0;34m\u001b[0m\u001b[0m\n",
      "\u001b[0;32m~/anaconda3/envs/ironhack/lib/python3.8/site-packages/folium/folium.py\u001b[0m in \u001b[0;36mchoropleth\u001b[0;34m(self, *args, **kwargs)\u001b[0m\n\u001b[1;32m    414\u001b[0m         )\n\u001b[1;32m    415\u001b[0m         \u001b[0;32mfrom\u001b[0m \u001b[0mfolium\u001b[0m\u001b[0;34m.\u001b[0m\u001b[0mfeatures\u001b[0m \u001b[0;32mimport\u001b[0m \u001b[0mChoropleth\u001b[0m\u001b[0;34m\u001b[0m\u001b[0;34m\u001b[0m\u001b[0m\n\u001b[0;32m--> 416\u001b[0;31m         \u001b[0mself\u001b[0m\u001b[0;34m.\u001b[0m\u001b[0madd_child\u001b[0m\u001b[0;34m(\u001b[0m\u001b[0mChoropleth\u001b[0m\u001b[0;34m(\u001b[0m\u001b[0;34m*\u001b[0m\u001b[0margs\u001b[0m\u001b[0;34m,\u001b[0m \u001b[0;34m**\u001b[0m\u001b[0mkwargs\u001b[0m\u001b[0;34m)\u001b[0m\u001b[0;34m)\u001b[0m\u001b[0;34m\u001b[0m\u001b[0;34m\u001b[0m\u001b[0m\n\u001b[0m\u001b[1;32m    417\u001b[0m \u001b[0;34m\u001b[0m\u001b[0m\n\u001b[1;32m    418\u001b[0m     \u001b[0;32mdef\u001b[0m \u001b[0mkeep_in_front\u001b[0m\u001b[0;34m(\u001b[0m\u001b[0mself\u001b[0m\u001b[0;34m,\u001b[0m \u001b[0;34m*\u001b[0m\u001b[0margs\u001b[0m\u001b[0;34m)\u001b[0m\u001b[0;34m:\u001b[0m\u001b[0;34m\u001b[0m\u001b[0;34m\u001b[0m\u001b[0m\n",
      "\u001b[0;32m~/anaconda3/envs/ironhack/lib/python3.8/site-packages/folium/features.py\u001b[0m in \u001b[0;36m__init__\u001b[0;34m(self, geo_data, data, columns, key_on, bins, fill_color, nan_fill_color, fill_opacity, nan_fill_opacity, line_color, line_weight, line_opacity, name, legend_name, overlay, control, show, topojson, smooth_factor, highlight, **kwargs)\u001b[0m\n\u001b[1;32m   1287\u001b[0m                 smooth_factor=smooth_factor)\n\u001b[1;32m   1288\u001b[0m         \u001b[0;32melse\u001b[0m\u001b[0;34m:\u001b[0m\u001b[0;34m\u001b[0m\u001b[0;34m\u001b[0m\u001b[0m\n\u001b[0;32m-> 1289\u001b[0;31m             self.geojson = GeoJson(\n\u001b[0m\u001b[1;32m   1290\u001b[0m                 \u001b[0mgeo_data\u001b[0m\u001b[0;34m,\u001b[0m\u001b[0;34m\u001b[0m\u001b[0;34m\u001b[0m\u001b[0m\n\u001b[1;32m   1291\u001b[0m                 \u001b[0mstyle_function\u001b[0m\u001b[0;34m=\u001b[0m\u001b[0mstyle_function\u001b[0m\u001b[0;34m,\u001b[0m\u001b[0;34m\u001b[0m\u001b[0;34m\u001b[0m\u001b[0m\n",
      "\u001b[0;32m~/anaconda3/envs/ironhack/lib/python3.8/site-packages/folium/features.py\u001b[0m in \u001b[0;36m__init__\u001b[0;34m(self, data, style_function, highlight_function, name, overlay, control, show, smooth_factor, tooltip, embed, popup, zoom_on_click, marker)\u001b[0m\n\u001b[1;32m    502\u001b[0m             \u001b[0mself\u001b[0m\u001b[0;34m.\u001b[0m\u001b[0mconvert_to_feature_collection\u001b[0m\u001b[0;34m(\u001b[0m\u001b[0;34m)\u001b[0m\u001b[0;34m\u001b[0m\u001b[0;34m\u001b[0m\u001b[0m\n\u001b[1;32m    503\u001b[0m             \u001b[0;32mif\u001b[0m \u001b[0mself\u001b[0m\u001b[0;34m.\u001b[0m\u001b[0mstyle\u001b[0m\u001b[0;34m:\u001b[0m\u001b[0;34m\u001b[0m\u001b[0;34m\u001b[0m\u001b[0m\n\u001b[0;32m--> 504\u001b[0;31m                 \u001b[0mself\u001b[0m\u001b[0;34m.\u001b[0m\u001b[0m_validate_function\u001b[0m\u001b[0;34m(\u001b[0m\u001b[0mstyle_function\u001b[0m\u001b[0;34m,\u001b[0m \u001b[0;34m'style_function'\u001b[0m\u001b[0;34m)\u001b[0m\u001b[0;34m\u001b[0m\u001b[0;34m\u001b[0m\u001b[0m\n\u001b[0m\u001b[1;32m    505\u001b[0m                 \u001b[0mself\u001b[0m\u001b[0;34m.\u001b[0m\u001b[0mstyle_function\u001b[0m \u001b[0;34m=\u001b[0m \u001b[0mstyle_function\u001b[0m\u001b[0;34m\u001b[0m\u001b[0;34m\u001b[0m\u001b[0m\n\u001b[1;32m    506\u001b[0m                 \u001b[0mself\u001b[0m\u001b[0;34m.\u001b[0m\u001b[0mstyle_map\u001b[0m \u001b[0;34m=\u001b[0m \u001b[0;34m{\u001b[0m\u001b[0;34m}\u001b[0m\u001b[0;34m\u001b[0m\u001b[0;34m\u001b[0m\u001b[0m\n",
      "\u001b[0;32m~/anaconda3/envs/ironhack/lib/python3.8/site-packages/folium/features.py\u001b[0m in \u001b[0;36m_validate_function\u001b[0;34m(self, func, name)\u001b[0m\n\u001b[1;32m    567\u001b[0m         \"\"\"\n\u001b[1;32m    568\u001b[0m         \u001b[0mtest_feature\u001b[0m \u001b[0;34m=\u001b[0m \u001b[0mself\u001b[0m\u001b[0;34m.\u001b[0m\u001b[0mdata\u001b[0m\u001b[0;34m[\u001b[0m\u001b[0;34m'features'\u001b[0m\u001b[0;34m]\u001b[0m\u001b[0;34m[\u001b[0m\u001b[0;36m0\u001b[0m\u001b[0;34m]\u001b[0m\u001b[0;34m\u001b[0m\u001b[0;34m\u001b[0m\u001b[0m\n\u001b[0;32m--> 569\u001b[0;31m         \u001b[0;32mif\u001b[0m \u001b[0;32mnot\u001b[0m \u001b[0mcallable\u001b[0m\u001b[0;34m(\u001b[0m\u001b[0mfunc\u001b[0m\u001b[0;34m)\u001b[0m \u001b[0;32mor\u001b[0m \u001b[0;32mnot\u001b[0m \u001b[0misinstance\u001b[0m\u001b[0;34m(\u001b[0m\u001b[0mfunc\u001b[0m\u001b[0;34m(\u001b[0m\u001b[0mtest_feature\u001b[0m\u001b[0;34m)\u001b[0m\u001b[0;34m,\u001b[0m \u001b[0mdict\u001b[0m\u001b[0;34m)\u001b[0m\u001b[0;34m:\u001b[0m\u001b[0;34m\u001b[0m\u001b[0;34m\u001b[0m\u001b[0m\n\u001b[0m\u001b[1;32m    570\u001b[0m             raise ValueError('{} should be a function that accepts items from '\n\u001b[1;32m    571\u001b[0m                              \u001b[0;34m'data[\\'features\\'] and returns a dictionary.'\u001b[0m\u001b[0;34m\u001b[0m\u001b[0;34m\u001b[0m\u001b[0m\n",
      "\u001b[0;32m~/anaconda3/envs/ironhack/lib/python3.8/site-packages/folium/features.py\u001b[0m in \u001b[0;36mstyle_function\u001b[0;34m(x)\u001b[0m\n\u001b[1;32m   1265\u001b[0m \u001b[0;34m\u001b[0m\u001b[0m\n\u001b[1;32m   1266\u001b[0m         \u001b[0;32mdef\u001b[0m \u001b[0mstyle_function\u001b[0m\u001b[0;34m(\u001b[0m\u001b[0mx\u001b[0m\u001b[0;34m)\u001b[0m\u001b[0;34m:\u001b[0m\u001b[0;34m\u001b[0m\u001b[0;34m\u001b[0m\u001b[0m\n\u001b[0;32m-> 1267\u001b[0;31m             \u001b[0mcolor\u001b[0m\u001b[0;34m,\u001b[0m \u001b[0mopacity\u001b[0m \u001b[0;34m=\u001b[0m \u001b[0mcolor_scale_fun\u001b[0m\u001b[0;34m(\u001b[0m\u001b[0mx\u001b[0m\u001b[0;34m)\u001b[0m\u001b[0;34m\u001b[0m\u001b[0;34m\u001b[0m\u001b[0m\n\u001b[0m\u001b[1;32m   1268\u001b[0m             return {\n\u001b[1;32m   1269\u001b[0m                 \u001b[0;34m'weight'\u001b[0m\u001b[0;34m:\u001b[0m \u001b[0mline_weight\u001b[0m\u001b[0;34m,\u001b[0m\u001b[0;34m\u001b[0m\u001b[0;34m\u001b[0m\u001b[0m\n",
      "\u001b[0;32m~/anaconda3/envs/ironhack/lib/python3.8/site-packages/folium/features.py\u001b[0m in \u001b[0;36mcolor_scale_fun\u001b[0;34m(x)\u001b[0m\n\u001b[1;32m   1248\u001b[0m                 \u001b[0mkey_of_x\u001b[0m \u001b[0;34m=\u001b[0m \u001b[0mget_by_key\u001b[0m\u001b[0;34m(\u001b[0m\u001b[0mx\u001b[0m\u001b[0;34m,\u001b[0m \u001b[0mkey_on\u001b[0m\u001b[0;34m)\u001b[0m\u001b[0;34m\u001b[0m\u001b[0;34m\u001b[0m\u001b[0m\n\u001b[1;32m   1249\u001b[0m                 \u001b[0;32mif\u001b[0m \u001b[0mkey_of_x\u001b[0m \u001b[0;32mis\u001b[0m \u001b[0;32mNone\u001b[0m\u001b[0;34m:\u001b[0m\u001b[0;34m\u001b[0m\u001b[0;34m\u001b[0m\u001b[0m\n\u001b[0;32m-> 1250\u001b[0;31m                     \u001b[0;32mraise\u001b[0m \u001b[0mValueError\u001b[0m\u001b[0;34m(\u001b[0m\u001b[0;34m\"key_on `{!r}` not found in GeoJSON.\"\u001b[0m\u001b[0;34m.\u001b[0m\u001b[0mformat\u001b[0m\u001b[0;34m(\u001b[0m\u001b[0mkey_on\u001b[0m\u001b[0;34m)\u001b[0m\u001b[0;34m)\u001b[0m\u001b[0;34m\u001b[0m\u001b[0;34m\u001b[0m\u001b[0m\n\u001b[0m\u001b[1;32m   1251\u001b[0m \u001b[0;34m\u001b[0m\u001b[0m\n\u001b[1;32m   1252\u001b[0m                 \u001b[0;32mif\u001b[0m \u001b[0mkey_of_x\u001b[0m \u001b[0;32mnot\u001b[0m \u001b[0;32min\u001b[0m \u001b[0mcolor_data\u001b[0m\u001b[0;34m.\u001b[0m\u001b[0mkeys\u001b[0m\u001b[0;34m(\u001b[0m\u001b[0;34m)\u001b[0m\u001b[0;34m:\u001b[0m\u001b[0;34m\u001b[0m\u001b[0;34m\u001b[0m\u001b[0m\n",
      "\u001b[0;31mValueError\u001b[0m: key_on `'properties.COD_BAR'` not found in GeoJSON."
     ]
    }
   ],
   "source": [
    "madrid_secciones.choropleth(\n",
    "    geo_data = secciones_json,\n",
    "    data = df, \n",
    "    columns = [\"Código\", \"Población\"],\n",
    "    key_on = \"feature.properties.COD_BAR\", \n",
    "    fill_color = \"YlGnBu\",\n",
    "    fill_opacity = 0.4,\n",
    "    line_opacity = 1,\n",
    "    legend_name = \"Población total por secciones\",\n",
    "    smooth_factor = 1\n",
    ");"
   ]
  },
  {
   "cell_type": "code",
   "execution_count": 27,
   "id": "f927d25a",
   "metadata": {},
   "outputs": [
    {
     "data": {
      "text/html": [
       "<div style=\"width:100%;\"><div style=\"position:relative;width:100%;height:0;padding-bottom:60%;\"><span style=\"color:#565656\">Make this Notebook Trusted to load map: File -> Trust Notebook</span><iframe src=\"about:blank\" style=\"position:absolute;width:100%;height:100%;left:0;top:0;border:none !important;\" data-html=%3C%21DOCTYPE%20html%3E%0A%3Chead%3E%20%20%20%20%0A%20%20%20%20%3Cmeta%20http-equiv%3D%22content-type%22%20content%3D%22text/html%3B%20charset%3DUTF-8%22%20/%3E%0A%20%20%20%20%0A%20%20%20%20%20%20%20%20%3Cscript%3E%0A%20%20%20%20%20%20%20%20%20%20%20%20L_NO_TOUCH%20%3D%20false%3B%0A%20%20%20%20%20%20%20%20%20%20%20%20L_DISABLE_3D%20%3D%20false%3B%0A%20%20%20%20%20%20%20%20%3C/script%3E%0A%20%20%20%20%0A%20%20%20%20%3Cstyle%3Ehtml%2C%20body%20%7Bwidth%3A%20100%25%3Bheight%3A%20100%25%3Bmargin%3A%200%3Bpadding%3A%200%3B%7D%3C/style%3E%0A%20%20%20%20%3Cstyle%3E%23map%20%7Bposition%3Aabsolute%3Btop%3A0%3Bbottom%3A0%3Bright%3A0%3Bleft%3A0%3B%7D%3C/style%3E%0A%20%20%20%20%3Cscript%20src%3D%22https%3A//cdn.jsdelivr.net/npm/leaflet%401.6.0/dist/leaflet.js%22%3E%3C/script%3E%0A%20%20%20%20%3Cscript%20src%3D%22https%3A//code.jquery.com/jquery-1.12.4.min.js%22%3E%3C/script%3E%0A%20%20%20%20%3Cscript%20src%3D%22https%3A//maxcdn.bootstrapcdn.com/bootstrap/3.2.0/js/bootstrap.min.js%22%3E%3C/script%3E%0A%20%20%20%20%3Cscript%20src%3D%22https%3A//cdnjs.cloudflare.com/ajax/libs/Leaflet.awesome-markers/2.0.2/leaflet.awesome-markers.js%22%3E%3C/script%3E%0A%20%20%20%20%3Clink%20rel%3D%22stylesheet%22%20href%3D%22https%3A//cdn.jsdelivr.net/npm/leaflet%401.6.0/dist/leaflet.css%22/%3E%0A%20%20%20%20%3Clink%20rel%3D%22stylesheet%22%20href%3D%22https%3A//maxcdn.bootstrapcdn.com/bootstrap/3.2.0/css/bootstrap.min.css%22/%3E%0A%20%20%20%20%3Clink%20rel%3D%22stylesheet%22%20href%3D%22https%3A//maxcdn.bootstrapcdn.com/bootstrap/3.2.0/css/bootstrap-theme.min.css%22/%3E%0A%20%20%20%20%3Clink%20rel%3D%22stylesheet%22%20href%3D%22https%3A//maxcdn.bootstrapcdn.com/font-awesome/4.6.3/css/font-awesome.min.css%22/%3E%0A%20%20%20%20%3Clink%20rel%3D%22stylesheet%22%20href%3D%22https%3A//cdnjs.cloudflare.com/ajax/libs/Leaflet.awesome-markers/2.0.2/leaflet.awesome-markers.css%22/%3E%0A%20%20%20%20%3Clink%20rel%3D%22stylesheet%22%20href%3D%22https%3A//cdn.jsdelivr.net/gh/python-visualization/folium/folium/templates/leaflet.awesome.rotate.min.css%22/%3E%0A%20%20%20%20%0A%20%20%20%20%20%20%20%20%20%20%20%20%3Cmeta%20name%3D%22viewport%22%20content%3D%22width%3Ddevice-width%2C%0A%20%20%20%20%20%20%20%20%20%20%20%20%20%20%20%20initial-scale%3D1.0%2C%20maximum-scale%3D1.0%2C%20user-scalable%3Dno%22%20/%3E%0A%20%20%20%20%20%20%20%20%20%20%20%20%3Cstyle%3E%0A%20%20%20%20%20%20%20%20%20%20%20%20%20%20%20%20%23map_228e5e20f39f4c5d9e46e8432a746241%20%7B%0A%20%20%20%20%20%20%20%20%20%20%20%20%20%20%20%20%20%20%20%20position%3A%20relative%3B%0A%20%20%20%20%20%20%20%20%20%20%20%20%20%20%20%20%20%20%20%20width%3A%20100.0%25%3B%0A%20%20%20%20%20%20%20%20%20%20%20%20%20%20%20%20%20%20%20%20height%3A%20100.0%25%3B%0A%20%20%20%20%20%20%20%20%20%20%20%20%20%20%20%20%20%20%20%20left%3A%200.0%25%3B%0A%20%20%20%20%20%20%20%20%20%20%20%20%20%20%20%20%20%20%20%20top%3A%200.0%25%3B%0A%20%20%20%20%20%20%20%20%20%20%20%20%20%20%20%20%7D%0A%20%20%20%20%20%20%20%20%20%20%20%20%3C/style%3E%0A%20%20%20%20%20%20%20%20%0A%3C/head%3E%0A%3Cbody%3E%20%20%20%20%0A%20%20%20%20%0A%20%20%20%20%20%20%20%20%20%20%20%20%3Cdiv%20class%3D%22folium-map%22%20id%3D%22map_228e5e20f39f4c5d9e46e8432a746241%22%20%3E%3C/div%3E%0A%20%20%20%20%20%20%20%20%0A%3C/body%3E%0A%3Cscript%3E%20%20%20%20%0A%20%20%20%20%0A%20%20%20%20%20%20%20%20%20%20%20%20var%20map_228e5e20f39f4c5d9e46e8432a746241%20%3D%20L.map%28%0A%20%20%20%20%20%20%20%20%20%20%20%20%20%20%20%20%22map_228e5e20f39f4c5d9e46e8432a746241%22%2C%0A%20%20%20%20%20%20%20%20%20%20%20%20%20%20%20%20%7B%0A%20%20%20%20%20%20%20%20%20%20%20%20%20%20%20%20%20%20%20%20center%3A%20%5B40.4216%2C%20-3.678%5D%2C%0A%20%20%20%20%20%20%20%20%20%20%20%20%20%20%20%20%20%20%20%20crs%3A%20L.CRS.EPSG3857%2C%0A%20%20%20%20%20%20%20%20%20%20%20%20%20%20%20%20%20%20%20%20zoom%3A%2012%2C%0A%20%20%20%20%20%20%20%20%20%20%20%20%20%20%20%20%20%20%20%20zoomControl%3A%20true%2C%0A%20%20%20%20%20%20%20%20%20%20%20%20%20%20%20%20%20%20%20%20preferCanvas%3A%20false%2C%0A%20%20%20%20%20%20%20%20%20%20%20%20%20%20%20%20%7D%0A%20%20%20%20%20%20%20%20%20%20%20%20%29%3B%0A%0A%20%20%20%20%20%20%20%20%20%20%20%20%0A%0A%20%20%20%20%20%20%20%20%0A%20%20%20%20%0A%20%20%20%20%20%20%20%20%20%20%20%20var%20tile_layer_e0cb06701a3848ca90b272414831bc0d%20%3D%20L.tileLayer%28%0A%20%20%20%20%20%20%20%20%20%20%20%20%20%20%20%20%22https%3A//cartodb-basemaps-%7Bs%7D.global.ssl.fastly.net/light_all/%7Bz%7D/%7Bx%7D/%7By%7D.png%22%2C%0A%20%20%20%20%20%20%20%20%20%20%20%20%20%20%20%20%7B%22attribution%22%3A%20%22%5Cu0026copy%3B%20%5Cu003ca%20href%3D%5C%22http%3A//www.openstreetmap.org/copyright%5C%22%5Cu003eOpenStreetMap%5Cu003c/a%5Cu003e%20contributors%20%5Cu0026copy%3B%20%5Cu003ca%20href%3D%5C%22http%3A//cartodb.com/attributions%5C%22%5Cu003eCartoDB%5Cu003c/a%5Cu003e%2C%20CartoDB%20%5Cu003ca%20href%20%3D%5C%22http%3A//cartodb.com/attributions%5C%22%5Cu003eattributions%5Cu003c/a%5Cu003e%22%2C%20%22detectRetina%22%3A%20false%2C%20%22maxNativeZoom%22%3A%2018%2C%20%22maxZoom%22%3A%2018%2C%20%22minZoom%22%3A%200%2C%20%22noWrap%22%3A%20false%2C%20%22opacity%22%3A%201%2C%20%22subdomains%22%3A%20%22abc%22%2C%20%22tms%22%3A%20false%7D%0A%20%20%20%20%20%20%20%20%20%20%20%20%29.addTo%28map_228e5e20f39f4c5d9e46e8432a746241%29%3B%0A%20%20%20%20%20%20%20%20%0A%3C/script%3E onload=\"this.contentDocument.open();this.contentDocument.write(    decodeURIComponent(this.getAttribute('data-html')));this.contentDocument.close();\" allowfullscreen webkitallowfullscreen mozallowfullscreen></iframe></div></div>"
      ],
      "text/plain": [
       "<folium.folium.Map at 0x7f4da28228e0>"
      ]
     },
     "execution_count": 27,
     "metadata": {},
     "output_type": "execute_result"
    }
   ],
   "source": [
    "madrid_secciones"
   ]
  },
  {
   "cell_type": "code",
   "execution_count": null,
   "id": "b333ad20",
   "metadata": {},
   "outputs": [],
   "source": []
  },
  {
   "cell_type": "code",
   "execution_count": null,
   "id": "2e012b59",
   "metadata": {},
   "outputs": [],
   "source": []
  },
  {
   "cell_type": "code",
   "execution_count": null,
   "id": "abe3e418",
   "metadata": {},
   "outputs": [],
   "source": []
  }
 ],
 "metadata": {
  "kernelspec": {
   "display_name": "ironhack",
   "language": "python",
   "name": "ironhack"
  },
  "language_info": {
   "codemirror_mode": {
    "name": "ipython",
    "version": 3
   },
   "file_extension": ".py",
   "mimetype": "text/x-python",
   "name": "python",
   "nbconvert_exporter": "python",
   "pygments_lexer": "ipython3",
   "version": "3.8.12"
  }
 },
 "nbformat": 4,
 "nbformat_minor": 5
}
