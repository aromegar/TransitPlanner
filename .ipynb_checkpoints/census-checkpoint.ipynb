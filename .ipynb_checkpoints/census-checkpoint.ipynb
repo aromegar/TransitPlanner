{
 "cells": [
  {
   "cell_type": "markdown",
   "id": "ed79c96c",
   "metadata": {},
   "source": [
    "# census.xls   -->   census.csv"
   ]
  },
  {
   "cell_type": "code",
   "execution_count": 2,
   "id": "1511f8a0",
   "metadata": {},
   "outputs": [],
   "source": [
    "import pandas as pd"
   ]
  },
  {
   "cell_type": "code",
   "execution_count": 28,
   "id": "718026ff",
   "metadata": {},
   "outputs": [],
   "source": [
    "census = pd.read_excel(\"DATA/dist_barr_pobl.xls\")\n",
    "\n",
    "census.drop(range(135,139),inplace=True)\n",
    "census.drop(range(0,4),inplace=True)\n",
    "census=census.reset_index()\n",
    "census = census.drop(columns=[\"Unnamed: 2\",\"index\"])\n",
    "census.columns = [\"Distrito\",\"Barrio\",\"Población\"]\n",
    "\n",
    "df.to_csv(\"DATA/dist_barr_pobl.csv\", index=False)"
   ]
  },
  {
   "cell_type": "code",
   "execution_count": null,
   "id": "857051e6",
   "metadata": {},
   "outputs": [],
   "source": []
  }
 ],
 "metadata": {
  "kernelspec": {
   "display_name": "ironhack",
   "language": "python",
   "name": "ironhack"
  },
  "language_info": {
   "codemirror_mode": {
    "name": "ipython",
    "version": 3
   },
   "file_extension": ".py",
   "mimetype": "text/x-python",
   "name": "python",
   "nbconvert_exporter": "python",
   "pygments_lexer": "ipython3",
   "version": "3.8.12"
  }
 },
 "nbformat": 4,
 "nbformat_minor": 5
}
